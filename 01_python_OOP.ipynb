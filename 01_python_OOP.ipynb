{
 "cells": [
  {
   "cell_type": "markdown",
   "metadata": {},
   "source": [
    "# Python Object Oriented Programing"
   ]
  },
  {
   "cell_type": "code",
   "execution_count": 94,
   "metadata": {},
   "outputs": [],
   "source": [
    "class student():\n",
    "    '''Constructor or (method) '''\n",
    "    def __init__( self, name, age):\n",
    "        self.name = name  #Attribute\n",
    "        self.age = age    #Attribute\n",
    "        self.info = 'ok'  #Attribute"
   ]
  },
  {
   "cell_type": "code",
   "execution_count": 95,
   "metadata": {},
   "outputs": [],
   "source": [
    "s = student('Leonid',34)"
   ]
  },
  {
   "cell_type": "code",
   "execution_count": 96,
   "metadata": {},
   "outputs": [
    {
     "data": {
      "text/plain": [
       "'ok'"
      ]
     },
     "execution_count": 96,
     "metadata": {},
     "output_type": "execute_result"
    }
   ],
   "source": [
    "s.info"
   ]
  },
  {
   "cell_type": "code",
   "execution_count": 97,
   "metadata": {},
   "outputs": [
    {
     "data": {
      "text/plain": [
       "'Leonid'"
      ]
     },
     "execution_count": 97,
     "metadata": {},
     "output_type": "execute_result"
    }
   ],
   "source": [
    "s.name"
   ]
  },
  {
   "cell_type": "code",
   "execution_count": 98,
   "metadata": {},
   "outputs": [
    {
     "data": {
      "text/plain": [
       "34"
      ]
     },
     "execution_count": 98,
     "metadata": {},
     "output_type": "execute_result"
    }
   ],
   "source": [
    "s.age"
   ]
  },
  {
   "cell_type": "markdown",
   "metadata": {},
   "source": [
    "## **Self**"
   ]
  },
  {
   "cell_type": "code",
   "execution_count": 99,
   "metadata": {},
   "outputs": [],
   "source": [
    "class myclass:\n",
    "    def test(self):\n",
    "        print('--> self')\n",
    "        print(self)"
   ]
  },
  {
   "cell_type": "code",
   "execution_count": 100,
   "metadata": {},
   "outputs": [
    {
     "name": "stdout",
     "output_type": "stream",
     "text": [
      "--> self\n",
      "<__main__.myclass object at 0x7f17c9c73d50>\n"
     ]
    }
   ],
   "source": [
    "this = myclass()\n",
    "this.test()"
   ]
  },
  {
   "cell_type": "code",
   "execution_count": 101,
   "metadata": {},
   "outputs": [
    {
     "name": "stdout",
     "output_type": "stream",
     "text": [
      "<__main__.myclass object at 0x7f17c9c73d50>\n"
     ]
    }
   ],
   "source": [
    "print(this)"
   ]
  },
  {
   "cell_type": "code",
   "execution_count": 102,
   "metadata": {},
   "outputs": [],
   "source": [
    "#self is poiter to this\n",
    "#Need to be provided"
   ]
  },
  {
   "cell_type": "code",
   "execution_count": 103,
   "metadata": {},
   "outputs": [],
   "source": [
    "class myclass:\n",
    "    def test(this):\n",
    "        print('--> this')"
   ]
  },
  {
   "cell_type": "code",
   "execution_count": 104,
   "metadata": {},
   "outputs": [
    {
     "name": "stdout",
     "output_type": "stream",
     "text": [
      "--> this\n"
     ]
    }
   ],
   "source": [
    "this = myclass()\n",
    "this.test()"
   ]
  },
  {
   "cell_type": "code",
   "execution_count": 105,
   "metadata": {},
   "outputs": [],
   "source": [
    "class myclass:\n",
    "    def test():\n",
    "        print('--> self')"
   ]
  },
  {
   "cell_type": "code",
   "execution_count": 106,
   "metadata": {},
   "outputs": [
    {
     "ename": "TypeError",
     "evalue": "test() takes 0 positional arguments but 1 was given",
     "output_type": "error",
     "traceback": [
      "\u001b[0;31m---------------------------------------------------------------------------\u001b[0m",
      "\u001b[0;31mTypeError\u001b[0m                                 Traceback (most recent call last)",
      "\u001b[0;32m<ipython-input-106-081b8da0e0cd>\u001b[0m in \u001b[0;36m<module>\u001b[0;34m\u001b[0m\n\u001b[1;32m      1\u001b[0m \u001b[0mthis\u001b[0m \u001b[0;34m=\u001b[0m \u001b[0mmyclass\u001b[0m\u001b[0;34m(\u001b[0m\u001b[0;34m)\u001b[0m\u001b[0;34m\u001b[0m\u001b[0;34m\u001b[0m\u001b[0m\n\u001b[0;32m----> 2\u001b[0;31m \u001b[0mthis\u001b[0m\u001b[0;34m.\u001b[0m\u001b[0mtest\u001b[0m\u001b[0;34m(\u001b[0m\u001b[0;34m)\u001b[0m\u001b[0;34m\u001b[0m\u001b[0;34m\u001b[0m\u001b[0m\n\u001b[0m",
      "\u001b[0;31mTypeError\u001b[0m: test() takes 0 positional arguments but 1 was given"
     ]
    }
   ],
   "source": [
    "this = myclass()\n",
    "this.test()"
   ]
  },
  {
   "cell_type": "markdown",
   "metadata": {},
   "source": [
    "## **Constructor**"
   ]
  },
  {
   "cell_type": "code",
   "execution_count": 107,
   "metadata": {},
   "outputs": [],
   "source": [
    "class student:\n",
    "    def deteils(self,name,age):\n",
    "        self.name = name\n",
    "        self.age = age\n",
    "        print(\"The name is {} and the age is {}\".format(name,age))\n",
    "        \n",
    "    def __init__(self):\n",
    "        print('--> Constructor')"
   ]
  },
  {
   "cell_type": "code",
   "execution_count": 108,
   "metadata": {},
   "outputs": [
    {
     "name": "stdout",
     "output_type": "stream",
     "text": [
      "--> Constructor\n"
     ]
    }
   ],
   "source": [
    "s = student()"
   ]
  },
  {
   "cell_type": "code",
   "execution_count": 109,
   "metadata": {},
   "outputs": [
    {
     "name": "stdout",
     "output_type": "stream",
     "text": [
      "The name is Leonid and the age is 34\n"
     ]
    }
   ],
   "source": [
    "s.deteils(age=34,name='Leonid')"
   ]
  },
  {
   "cell_type": "code",
   "execution_count": 110,
   "metadata": {},
   "outputs": [
    {
     "name": "stdout",
     "output_type": "stream",
     "text": [
      "The name is Leonid and the age is 34\n"
     ]
    }
   ],
   "source": [
    "s.deteils('Leonid',34)"
   ]
  },
  {
   "cell_type": "code",
   "execution_count": 111,
   "metadata": {},
   "outputs": [
    {
     "name": "stdout",
     "output_type": "stream",
     "text": [
      "The name is 34 and the age is Leonid\n"
     ]
    }
   ],
   "source": [
    "s.deteils(34,'Leonid')"
   ]
  },
  {
   "cell_type": "markdown",
   "metadata": {},
   "source": [
    "## **Class Attribute vs Instance Attribute**"
   ]
  },
  {
   "cell_type": "code",
   "execution_count": 112,
   "metadata": {},
   "outputs": [],
   "source": [
    "class myclass(object):\n",
    "    class_value = 'class_value'"
   ]
  },
  {
   "cell_type": "code",
   "execution_count": 113,
   "metadata": {},
   "outputs": [
    {
     "name": "stdout",
     "output_type": "stream",
     "text": [
      "class_value\n"
     ]
    }
   ],
   "source": [
    "d=myclass()\n",
    "print(d.class_value)"
   ]
  },
  {
   "cell_type": "code",
   "execution_count": 114,
   "metadata": {},
   "outputs": [
    {
     "name": "stdout",
     "output_type": "stream",
     "text": [
      "new_val\n"
     ]
    }
   ],
   "source": [
    "d.class_value = 'new_val'\n",
    "print(d.class_value)"
   ]
  },
  {
   "cell_type": "code",
   "execution_count": 115,
   "metadata": {},
   "outputs": [
    {
     "name": "stdout",
     "output_type": "stream",
     "text": [
      "class_value\n"
     ]
    }
   ],
   "source": [
    "del d.class_value\n",
    "print(d.class_value)"
   ]
  },
  {
   "cell_type": "markdown",
   "metadata": {},
   "source": [
    "## **Example 1**"
   ]
  },
  {
   "cell_type": "code",
   "execution_count": 116,
   "metadata": {},
   "outputs": [],
   "source": [
    "class student:\n",
    "    def __init__(self,name):\n",
    "        self.name = name\n",
    "        self.marks = []\n",
    "        print(\"Hi {}\".format(name))\n",
    "        \n",
    "    def addmarks(self,mark):\n",
    "        self.marks.append(mark)\n",
    "        \n",
    "    def avg(self):\n",
    "        return sum(self.marks)/len(self.marks)"
   ]
  },
  {
   "cell_type": "code",
   "execution_count": 117,
   "metadata": {},
   "outputs": [
    {
     "name": "stdout",
     "output_type": "stream",
     "text": [
      "Hi Leonid\n"
     ]
    }
   ],
   "source": [
    "s=student('Leonid')"
   ]
  },
  {
   "cell_type": "code",
   "execution_count": 118,
   "metadata": {},
   "outputs": [],
   "source": [
    "s.addmarks(4)\n",
    "s.addmarks(5)\n",
    "s.addmarks(4)\n",
    "s.addmarks(5)\n",
    "s.addmarks(4)\n",
    "s.addmarks(5)\n",
    "s.addmarks(4)\n",
    "s.addmarks(5)"
   ]
  },
  {
   "cell_type": "code",
   "execution_count": 119,
   "metadata": {},
   "outputs": [
    {
     "data": {
      "text/plain": [
       "[4, 5, 4, 5, 4, 5, 4, 5]"
      ]
     },
     "execution_count": 119,
     "metadata": {},
     "output_type": "execute_result"
    }
   ],
   "source": [
    "s.marks"
   ]
  },
  {
   "cell_type": "code",
   "execution_count": 120,
   "metadata": {},
   "outputs": [
    {
     "data": {
      "text/plain": [
       "8"
      ]
     },
     "execution_count": 120,
     "metadata": {},
     "output_type": "execute_result"
    }
   ],
   "source": [
    "len(s.marks)"
   ]
  },
  {
   "cell_type": "code",
   "execution_count": 121,
   "metadata": {},
   "outputs": [
    {
     "data": {
      "text/plain": [
       "4"
      ]
     },
     "execution_count": 121,
     "metadata": {},
     "output_type": "execute_result"
    }
   ],
   "source": [
    "s.marks[0]"
   ]
  },
  {
   "cell_type": "code",
   "execution_count": 122,
   "metadata": {},
   "outputs": [
    {
     "name": "stdout",
     "output_type": "stream",
     "text": [
      "[4, 5, 4, 5, 4, 5, 4, 5]\n",
      "4\n",
      "5\n",
      "4\n"
     ]
    }
   ],
   "source": [
    "print(s.marks)\n",
    "print(s.marks[0])\n",
    "print(s.marks[1])\n",
    "print(s.marks[2])"
   ]
  },
  {
   "cell_type": "code",
   "execution_count": 123,
   "metadata": {},
   "outputs": [
    {
     "data": {
      "text/plain": [
       "4.5"
      ]
     },
     "execution_count": 123,
     "metadata": {},
     "output_type": "execute_result"
    }
   ],
   "source": [
    "s.avg()"
   ]
  },
  {
   "cell_type": "code",
   "execution_count": 124,
   "metadata": {},
   "outputs": [
    {
     "data": {
      "text/plain": [
       "[4, 5, 4, 5, 4, 5, 4, 5]"
      ]
     },
     "execution_count": 124,
     "metadata": {},
     "output_type": "execute_result"
    }
   ],
   "source": [
    "list(s.marks)"
   ]
  },
  {
   "cell_type": "markdown",
   "metadata": {},
   "source": [
    "## **Example 2**"
   ]
  },
  {
   "cell_type": "code",
   "execution_count": 134,
   "metadata": {},
   "outputs": [],
   "source": [
    "class calculator:\n",
    "    def __init__ (self, a, b):\n",
    "        self.a = a\n",
    "        self.b = b\n",
    "        \n",
    "    def add(self):\n",
    "        return self.a + self.b\n",
    "    \n",
    "    def mull(self):\n",
    "        return self.a * self.b"
   ]
  },
  {
   "cell_type": "code",
   "execution_count": 135,
   "metadata": {},
   "outputs": [
    {
     "name": "stdout",
     "output_type": "stream",
     "text": [
      "30\n",
      "200\n"
     ]
    }
   ],
   "source": [
    "calc = calculator(10,20)\n",
    "print(calc.add())\n",
    "print(calc.mull())"
   ]
  },
  {
   "cell_type": "markdown",
   "metadata": {},
   "source": [
    "## **Inheritance**"
   ]
  },
  {
   "cell_type": "code",
   "execution_count": 156,
   "metadata": {},
   "outputs": [],
   "source": [
    "class animal(object):\n",
    "    def __init__(self,name):\n",
    "        self.name = name \n",
    "    def eat( self, food):\n",
    "        print(\"{} is eating {}\".format(self.name, food))\n",
    "        \n",
    "class dog(animal):\n",
    "    def fetch( self, thing):\n",
    "        print(\"{} get the {}\".format(self.name, thing))\n",
    "        \n",
    "class cat(animal):\n",
    "    def run(self):\n",
    "        print(\"{} is running fast\".format(self.name))"
   ]
  },
  {
   "cell_type": "code",
   "execution_count": 157,
   "metadata": {},
   "outputs": [
    {
     "name": "stdout",
     "output_type": "stream",
     "text": [
      "Moby is eating meat\n",
      "Moby get the circles\n"
     ]
    }
   ],
   "source": [
    "d=dog('Moby')\n",
    "d.eat('meat')\n",
    "d.fetch('circles')"
   ]
  },
  {
   "cell_type": "code",
   "execution_count": 160,
   "metadata": {},
   "outputs": [
    {
     "name": "stdout",
     "output_type": "stream",
     "text": [
      "Kashtanka is eating meat\n",
      "Kashtanka is running fast\n"
     ]
    }
   ],
   "source": [
    "c=cat('Kashtanka')\n",
    "c.eat('meat')\n",
    "c.run()"
   ]
  },
  {
   "cell_type": "markdown",
   "metadata": {},
   "source": [
    "## **Inheritance** - examples2"
   ]
  },
  {
   "cell_type": "code",
   "execution_count": 146,
   "metadata": {},
   "outputs": [],
   "source": [
    "class calculator:\n",
    "    def __init__(self,x,y):\n",
    "        self.x = x\n",
    "        self.y = y   \n",
    "    def sum(self):\n",
    "        return self.x + self.y\n",
    "    def product(self):\n",
    "        return self.x * self.y"
   ]
  },
  {
   "cell_type": "code",
   "execution_count": 147,
   "metadata": {},
   "outputs": [],
   "source": [
    "class scientific(calculator):\n",
    "    def power(self):\n",
    "        return pow(self.x, self.y)"
   ]
  },
  {
   "cell_type": "code",
   "execution_count": 149,
   "metadata": {},
   "outputs": [
    {
     "name": "stdout",
     "output_type": "stream",
     "text": [
      "30\n",
      "200\n",
      "100000000000000000000\n"
     ]
    }
   ],
   "source": [
    "sc = scientific(10,20)\n",
    "print(sc.sum())\n",
    "print(sc.product())\n",
    "print(sc.power())"
   ]
  },
  {
   "cell_type": "markdown",
   "metadata": {},
   "source": [
    "## **Inheritance** - examples3"
   ]
  },
  {
   "cell_type": "code",
   "execution_count": 151,
   "metadata": {},
   "outputs": [],
   "source": [
    "#Parent, Base or super class\n",
    "class Data(object):\n",
    "    def get_date(self):\n",
    "        return '20.05.2020'\n",
    "\n",
    "#Child, Derived or Subclass\n",
    "class Time(Data):\n",
    "    def get_time(self):\n",
    "        return '20:14'"
   ]
  },
  {
   "cell_type": "code",
   "execution_count": 153,
   "metadata": {},
   "outputs": [
    {
     "name": "stdout",
     "output_type": "stream",
     "text": [
      "20:14\n",
      "20.05.2020\n"
     ]
    }
   ],
   "source": [
    "t = Time()\n",
    "print(t.get_time())\n",
    "print(t.get_date())"
   ]
  },
  {
   "cell_type": "markdown",
   "metadata": {},
   "source": [
    "## **Polymorphism** - overloading"
   ]
  },
  {
   "cell_type": "code",
   "execution_count": 201,
   "metadata": {},
   "outputs": [],
   "source": [
    "class animal(object):\n",
    "    def __init__(self,name):\n",
    "        self.name = name\n",
    "    def fly(self):\n",
    "        print(\"Some animals can fly some can't\")\n",
    "\n",
    "class bird(animal):\n",
    "    def fly(self):\n",
    "        print('{} is flying'.format(self.name))\n",
    "        \n",
    "class dog(animal):\n",
    "    def fly(self):\n",
    "        print('{} is not flying'.format(self.name))"
   ]
  },
  {
   "cell_type": "code",
   "execution_count": 202,
   "metadata": {},
   "outputs": [
    {
     "name": "stdout",
     "output_type": "stream",
     "text": [
      "Kesha is flying\n"
     ]
    }
   ],
   "source": [
    "b = bird('Kesha')\n",
    "b.fly()"
   ]
  },
  {
   "cell_type": "code",
   "execution_count": 203,
   "metadata": {},
   "outputs": [
    {
     "name": "stdout",
     "output_type": "stream",
     "text": [
      "Wolf is not flying\n"
     ]
    }
   ],
   "source": [
    "d = dog('Wolf')\n",
    "d.fly()"
   ]
  },
  {
   "cell_type": "code",
   "execution_count": 204,
   "metadata": {},
   "outputs": [
    {
     "data": {
      "text/plain": [
       "5"
      ]
     },
     "execution_count": 204,
     "metadata": {},
     "output_type": "execute_result"
    }
   ],
   "source": [
    "len('Hello')"
   ]
  },
  {
   "cell_type": "code",
   "execution_count": 205,
   "metadata": {},
   "outputs": [
    {
     "data": {
      "text/plain": [
       "3"
      ]
     },
     "execution_count": 205,
     "metadata": {},
     "output_type": "execute_result"
    }
   ],
   "source": [
    "len(('a','b','c'))"
   ]
  },
  {
   "cell_type": "code",
   "execution_count": 206,
   "metadata": {},
   "outputs": [
    {
     "data": {
      "text/plain": [
       "2"
      ]
     },
     "execution_count": 206,
     "metadata": {},
     "output_type": "execute_result"
    }
   ],
   "source": [
    "len({'a':1,'b':2})"
   ]
  },
  {
   "cell_type": "markdown",
   "metadata": {},
   "source": [
    "## **Constructor** - overloading and super()"
   ]
  },
  {
   "cell_type": "code",
   "execution_count": 221,
   "metadata": {},
   "outputs": [],
   "source": [
    "class animal(object):\n",
    "    def __init__(self, name):\n",
    "        self.name = name\n",
    "    def fly(self):\n",
    "        print('{} is flying or it is not flying ?'.format(self.name))\n",
    "\n",
    "class dog(animal):\n",
    "    def __init__(self, name, food):\n",
    "        super (dog, self).__init__(name)\n",
    "        self.food = food\n",
    "    def fetch(self,thing):\n",
    "        print('{} is fetching {}'.format(self.name, thing))"
   ]
  },
  {
   "cell_type": "code",
   "execution_count": 223,
   "metadata": {},
   "outputs": [
    {
     "name": "stdout",
     "output_type": "stream",
     "text": [
      "Wolf\n",
      "meat\n",
      "Wolf is flying or it is not flying ?\n"
     ]
    }
   ],
   "source": [
    "d = dog('Wolf','meat')\n",
    "print(d.name)\n",
    "print(d.food)\n",
    "d.fly()"
   ]
  },
  {
   "cell_type": "markdown",
   "metadata": {},
   "source": [
    "## **Multiple inheritance** - depth - first"
   ]
  },
  {
   "cell_type": "code",
   "execution_count": 246,
   "metadata": {},
   "outputs": [],
   "source": [
    "class A(object):\n",
    "    def __init__(self):\n",
    "        pass\n",
    "    def printThis(self):\n",
    "        print('Doing this in A')\n",
    "        \n",
    "class B(A):\n",
    "    def printBC(slef):\n",
    "        print('This is B')\n",
    "\n",
    "class C(object):\n",
    "    def printThis(self):\n",
    "        print('Doing this in C')\n",
    "    def printBC(slef):\n",
    "        print('This is C')\n",
    "\n",
    "class D(B,C):\n",
    "    pass\n",
    "\n",
    "class E(C,B):\n",
    "    pass"
   ]
  },
  {
   "cell_type": "code",
   "execution_count": 247,
   "metadata": {},
   "outputs": [
    {
     "name": "stdout",
     "output_type": "stream",
     "text": [
      "Doing this in A\n",
      "Doing this in A\n",
      "Doing this in C\n",
      "Doing this in A\n",
      "[<class '__main__.D'>, <class '__main__.B'>, <class '__main__.A'>, <class '__main__.C'>, <class 'object'>]\n"
     ]
    }
   ],
   "source": [
    "A().printThis()\n",
    "B().printThis()\n",
    "C().printThis()\n",
    "D().printThis()\n",
    "print(D.mro())"
   ]
  },
  {
   "cell_type": "code",
   "execution_count": 248,
   "metadata": {},
   "outputs": [
    {
     "name": "stdout",
     "output_type": "stream",
     "text": [
      "This is B\n",
      "This is C\n"
     ]
    }
   ],
   "source": [
    "D().printBC()\n",
    "E().printBC()"
   ]
  },
  {
   "cell_type": "code",
   "execution_count": null,
   "metadata": {},
   "outputs": [],
   "source": []
  }
 ],
 "metadata": {
  "kernelspec": {
   "display_name": "Python 3",
   "language": "python",
   "name": "python3"
  },
  "language_info": {
   "codemirror_mode": {
    "name": "ipython",
    "version": 3
   },
   "file_extension": ".py",
   "mimetype": "text/x-python",
   "name": "python",
   "nbconvert_exporter": "python",
   "pygments_lexer": "ipython3",
   "version": "3.7.6"
  }
 },
 "nbformat": 4,
 "nbformat_minor": 1
}
